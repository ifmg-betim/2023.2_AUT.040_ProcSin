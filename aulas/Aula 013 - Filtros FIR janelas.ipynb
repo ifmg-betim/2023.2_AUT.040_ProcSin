{
 "cells": [
  {
   "cell_type": "markdown",
   "metadata": {},
   "source": [
    "# Filtros FIR por janelamento"
   ]
  },
  {
   "cell_type": "markdown",
   "metadata": {},
   "source": [
    "Nesse caderno é mostrado os principais tipos de filtros FIR por janelamento."
   ]
  },
  {
   "cell_type": "code",
   "execution_count": 1,
   "metadata": {
    "code_folding": [
     0
    ]
   },
   "outputs": [
    {
     "data": {
      "text/html": [
       "        <script type=\"text/javascript\">\n",
       "        window.PlotlyConfig = {MathJaxConfig: 'local'};\n",
       "        if (window.MathJax) {MathJax.Hub.Config({SVG: {font: \"STIX-Web\"}});}\n",
       "        if (typeof require !== 'undefined') {\n",
       "        require.undef(\"plotly\");\n",
       "        requirejs.config({\n",
       "            paths: {\n",
       "                'plotly': ['https://cdn.plot.ly/plotly-latest.min']\n",
       "            }\n",
       "        });\n",
       "        require(['plotly'], function(Plotly) {\n",
       "            window._Plotly = Plotly;\n",
       "        });\n",
       "        }\n",
       "        </script>\n",
       "        "
      ]
     },
     "metadata": {},
     "output_type": "display_data"
    }
   ],
   "source": [
    "# Importa bibliotecas\n",
    "import numpy as np\n",
    "import scipy as sp\n",
    "import matplotlib.pyplot as plt\n",
    "import IPython.display as ipd\n",
    "from scipy.io import wavfile\n",
    "from scipy import signal\n",
    "import plotly.offline as py\n",
    "import plotly.graph_objs as go\n",
    "py.init_notebook_mode(connected=True) #initialize on notebook\n",
    "from ipywidgets import interact, interactive, fixed, interact_manual\n",
    "import ipywidgets as widgets\n",
    "import plotly.tools as tls #matplotlib to plotly"
   ]
  },
  {
   "cell_type": "markdown",
   "metadata": {},
   "source": [
    "## Filtro passa-baixas ideal\n",
    "A resposta ao impulso de um filtro ideal é dada por:"
   ]
  },
  {
   "cell_type": "code",
   "execution_count": 2,
   "metadata": {
    "code_folding": [
     0
    ],
    "scrolled": false
   },
   "outputs": [
    {
     "data": {
      "application/vnd.jupyter.widget-view+json": {
       "model_id": "c5cc125748d7421f8afab62796f95811",
       "version_major": 2,
       "version_minor": 0
      },
      "text/plain": [
       "interactive(children=(FloatSlider(value=1.5, description='wc0', max=3.141592653589793), Output()), _dom_classe…"
      ]
     },
     "metadata": {},
     "output_type": "display_data"
    }
   ],
   "source": [
    "# Filtro ideal no domínio da frequência e no domínio do tempo\n",
    "wc=[]\n",
    "def filtroIdealFIR (wc0=1.5):\n",
    "    global wc\n",
    "    wc = wc0\n",
    "    #wc = 1.5 #frequência de corte (rad)\n",
    "    N = 501 #num amostras\n",
    "\n",
    "     #filtro passa-baixas ideal: domínio da frequência\n",
    "    omega = np.linspace(-np.pi, np.pi, N)\n",
    "    x_fft = np.empty(N)\n",
    "    x_fft[abs(omega)<wc] = 1 #banda de passagem\n",
    "    x_fft[abs(omega)>wc] = 0 #banda de corte\n",
    "\n",
    "    plt.figure(figsize=(12,1.5))\n",
    "    plt.plot(omega, x_fft, c='orange', lw=5)\n",
    "    plt.xlabel(r'$\\omega$')\n",
    "    plt.title('Domínio da Frequência')\n",
    "    plt.xlim((-np.pi, np.pi))\n",
    "\n",
    "    #filtro passa-baixas ideal: domínio do tempo\n",
    "    n = np.linspace(-10, 10, 101)\n",
    "    x = np.empty_like(n)\n",
    "    x[n == 0] = wc/np.pi\n",
    "    x[n != 0] = (1/np.pi/n[n != 0])*np.sin(wc*n[n != 0])\n",
    "\n",
    "    plt.figure(figsize=(12,3))\n",
    "    plt.plot(n, x, c='grey', lw=.5)\n",
    "    plt.stem(n, x, 'k', markerfmt='ko', use_line_collection=True)\n",
    "    plt.xlabel(r'$t$')\n",
    "    plt.title('Domínio do Tempo (discreto)')\n",
    "    plt.xlim((-10, 10))\n",
    "\n",
    "    plt.show()\n",
    "\n",
    "# Slider\n",
    "interact(filtroIdealFIR, wc0=widgets.FloatSlider(min=0.0,max=np.pi,step=.1,value=1.5));"
   ]
  },
  {
   "cell_type": "markdown",
   "metadata": {},
   "source": [
    "## Janelas\n",
    "Abaixo estão colocadas algumas das principais janelas usadas em filtro FIR."
   ]
  },
  {
   "cell_type": "code",
   "execution_count": 3,
   "metadata": {
    "code_folding": [
     0
    ],
    "scrolled": false
   },
   "outputs": [
    {
     "data": {
      "application/vnd.jupyter.widget-view+json": {
       "model_id": "bdd88e655daa4edf8ea16ad03bd461c2",
       "version_major": 2,
       "version_minor": 0
      },
      "text/plain": [
       "interactive(children=(Dropdown(description='windowType', options=('boxcar', 'triang', 'blackman', 'hamming', '…"
      ]
     },
     "metadata": {},
     "output_type": "display_data"
    }
   ],
   "source": [
    "# Funções de janelamento para filtros FIR\n",
    "def janelamentosFIR(windowType, numTaps=55):\n",
    "    N = 101\n",
    "    n = np.linspace(-10, 10, N)\n",
    "    \n",
    "    x = np.empty_like(n)\n",
    "    x[n == 0] = wc/np.pi\n",
    "    x[n != 0] = (1/np.pi/n[n != 0])*np.sin(wc*n[n != 0])\n",
    "    \n",
    "    wn = signal.get_window(window=windowType, Nx=N)\n",
    "    # boxcar, triang, blackman, hamming, hann, bartlett, flattop,\n",
    "    # parzen, bohman, blackmanharris, nuttall, barthann, kaiser (needs beta),\n",
    "    # gaussian (needs standard deviation), general_gaussian (needs power, width),\n",
    "    # slepian (needs width), dpss (needs normalized half-bandwidth),\n",
    "    # chebwin (needs attenuation), exponential (needs decay scale), tukey (needs taper fraction)\n",
    "    \n",
    "    #FIR filter\n",
    "    num = signal.firwin(numtaps=numTaps, cutoff = .3, window = windowType)\n",
    "    omega, Hz = signal.freqz(num)\n",
    "    \n",
    "    #faixa de transição entre -20dB e -3dB (para preenchimento no gráfico)\n",
    "    omg_tr = omega[(abs(Hz)<10**(-3/20)) & (abs(Hz)>10**(-20/20))]\n",
    "    \n",
    "    plt.figure(figsize=(10,2))\n",
    "    plt.subplot(121)\n",
    "    plt.title('Função Janela')\n",
    "    plt.plot(n, wn, lw=2)\n",
    "    plt.xlim((-10, 10))\n",
    "    plt.ylim((-.1, 1.1))\n",
    "    plt.xticks([])\n",
    "    plt.xlabel(r'$n$')\n",
    "    # plt.stem(n, wn, 'k', markerfmt='ko', lw=5)\n",
    "    \n",
    "#     plt.figure(figsize=(10,2))\n",
    "    plt.subplot(122)\n",
    "    plt.title('Resposta Filtro Ideal')\n",
    "    plt.plot(n, x, c='orange', lw=2)\n",
    "    plt.xlim((-10, 10))\n",
    "    plt.xticks([])\n",
    "    plt.xlabel(r'$n$')\n",
    "    \n",
    "    plt.figure(figsize=(10,2))\n",
    "    plt.title(r'Resposta ao Impulso Filtro $h(n)$')\n",
    "    plt.ylabel(r'$h(n)$')\n",
    "    plt.plot(n, wn*x, c='red', lw=2)\n",
    "    plt.xlim((-10, 10))\n",
    "    plt.xlabel(r'$n$')\n",
    "    \n",
    "    plt.figure(figsize=(10,2))\n",
    "    plt.title('$Módulo |H(e^{j\\omega})|$')\n",
    "    plt.ylabel('$|H(e^{j\\omega})|$')\n",
    "    plt.plot(omega, abs(Hz), c='green', lw=3)\n",
    "    plt.fill([omg_tr[-1],omg_tr[0],omg_tr[0],omg_tr[-1]], [0, 0, 1, 1], \"0.7\")\n",
    "#     plt.plot(omega[abs(Hz)<10**(-3/20)], abs(Hz)[abs(Hz)<10**(-3/20)], c='red', lw=3)\n",
    "#     plt.plot(omega, 20*np.log10(abs(Hz)), c='green', lw=3)\n",
    "#     plt.ylabel(r'dB')\n",
    "    plt.xlabel(r'$\\omega$')\n",
    "    plt.xlim((0, np.pi))\n",
    "    \n",
    "    plt.figure(figsize=(10,2))\n",
    "    plt.title('Fase $H(e^{j\\omega})$')\n",
    "    plt.ylabel(r'$\\measuredangle H(e^{j\\omega})$')\n",
    "    plt.plot(omega, np.unwrap(np.angle(Hz)), c='orange', lw=3)\n",
    "    plt.xlabel(r'$\\omega$')\n",
    "    plt.xlim((0, np.pi))\n",
    "    \n",
    "    plt.show()\n",
    "\n",
    "# Mecanismo de interação\n",
    "interact(janelamentosFIR,\n",
    "         windowType=['boxcar', 'triang', 'blackman', 'hamming', 'hann', 'bartlett',\n",
    "         'flattop', 'parzen', 'bohman', 'blackmanharris', 'nuttall', 'barthann'],\n",
    "          numTaps=widgets.IntSlider(min=5,max=1000,step=5,value=20));\n",
    "# boxcar, triang, blackman, hamming, hann, bartlett, flattop,\n",
    "# parzen, bohman, blackmanharris, nuttall, barthann, kaiser (needs beta),\n",
    "# gaussian (needs standard deviation), general_gaussian (needs power, width),\n",
    "# slepian (needs width), dpss (needs normalized half-bandwidth),\n",
    "# chebwin (needs attenuation), exponential (needs decay scale), tukey (needs taper fraction)"
   ]
  },
  {
   "cell_type": "markdown",
   "metadata": {},
   "source": [
    "## Projeto de Filtros FIR: janela de Kaiser\n",
    "Aqui são mencionadas técnicas de projeto usando as janelas de Kaiser e Dolph-Chebyshev."
   ]
  },
  {
   "cell_type": "code",
   "execution_count": 4,
   "metadata": {
    "code_folding": [
     0
    ]
   },
   "outputs": [
    {
     "data": {
      "application/vnd.jupyter.widget-view+json": {
       "model_id": "18ee0f4d9b2446b5aa128af983f714ec",
       "version_major": 2,
       "version_minor": 0
      },
      "text/plain": [
       "interactive(children=(FloatSlider(value=10.0, description='ripple_db', max=20.0, min=2.0), FloatSlider(value=2…"
      ]
     },
     "metadata": {},
     "output_type": "display_data"
    }
   ],
   "source": [
    "# Funções de janelamento para filtros FIR\n",
    "def janelamentosFIR(ripple_db=1, width=50, fs=2*314):\n",
    "    N = 101\n",
    "    n = np.linspace(-10, 10, N)\n",
    "\n",
    "#     x = np.empty_like(n)\n",
    "#     x[n == 0] = wc/np.pi\n",
    "#     x[n != 0] = (1/np.pi/n[n != 0])*np.sin(wc*n[n != 0])\n",
    "    \n",
    "#     wn = signal.get_window(window=windowType, Nx=N)\n",
    "    # boxcar, triang, blackman, hamming, hann, bartlett, flattop,\n",
    "    # parzen, bohman, blackmanharris, nuttall, barthann, kaiser (needs beta),\n",
    "    # gaussian (needs standard deviation), general_gaussian (needs power, width),\n",
    "    # slepian (needs width), dpss (needs normalized half-bandwidth),\n",
    "    # chebwin (needs attenuation), exponential (needs decay scale), tukey (needs taper fraction)\n",
    "    \n",
    "    #FIR filter\n",
    "    numTaps, beta = signal.kaiserord(ripple=ripple_db, width=width/(0.5*fs), )\n",
    "    num = signal.firwin(numtaps=numTaps, cutoff = 100, window = ('kaiser', beta), fs=fs)\n",
    "    omega, Hz = signal.freqz(num)\n",
    "    \n",
    "    plt.figure(figsize=(10,2))\n",
    "    plt.ylabel('$|H(e^{j\\omega})|$')\n",
    "    plt.plot(omega, abs(Hz), c='green', lw=3)\n",
    "#     plt.plot(omega, 20*np.log10(abs(Hz)), c='green', lw=3)\n",
    "#     plt.ylabel(r'dB')\n",
    "    plt.ylim((-.1,1.3))\n",
    "    plt.xlabel(r'$\\omega$')\n",
    "    \n",
    "    plt.figure(figsize=(10,2))\n",
    "    plt.ylabel('$\\measuredangle H(e^{j\\omega})$')\n",
    "    plt.plot(omega, np.unwrap(np.angle(Hz)), c='orange', lw=3)\n",
    "    plt.xlabel(r'$\\omega$')\n",
    "    \n",
    "    plt.show()\n",
    "    print('numTaps = %i\\nbeta = %.2f'%(numTaps, beta))\n",
    "\n",
    "# Mecanismo de interação\n",
    "interact(janelamentosFIR,\n",
    "         ripple_db=widgets.FloatSlider(min=2,max=20,step=.1,value=10),\n",
    "         width=widgets.FloatSlider(min=0.01,max=10,step=.005,value=2));\n",
    "# kaiser (needs beta),\n",
    "# gaussian (needs standard deviation), general_gaussian (needs power, width),\n",
    "# slepian (needs width), dpss (needs normalized half-bandwidth),\n",
    "# chebwin (needs attenuation), exponential (needs decay scale), tukey (needs taper fraction)"
   ]
  }
 ],
 "metadata": {
  "kernelspec": {
   "display_name": "Python 3",
   "language": "python",
   "name": "python3"
  },
  "language_info": {
   "codemirror_mode": {
    "name": "ipython",
    "version": 3
   },
   "file_extension": ".py",
   "mimetype": "text/x-python",
   "name": "python",
   "nbconvert_exporter": "python",
   "pygments_lexer": "ipython3",
   "version": "3.6.15"
  },
  "toc": {
   "base_numbering": 1,
   "nav_menu": {},
   "number_sections": true,
   "sideBar": true,
   "skip_h1_title": false,
   "title_cell": "Table of Contents",
   "title_sidebar": "Contents",
   "toc_cell": false,
   "toc_position": {},
   "toc_section_display": true,
   "toc_window_display": false
  },
  "varInspector": {
   "cols": {
    "lenName": 16,
    "lenType": 16,
    "lenVar": 40
   },
   "kernels_config": {
    "python": {
     "delete_cmd_postfix": "",
     "delete_cmd_prefix": "del ",
     "library": "var_list.py",
     "varRefreshCmd": "print(var_dic_list())"
    },
    "r": {
     "delete_cmd_postfix": ") ",
     "delete_cmd_prefix": "rm(",
     "library": "var_list.r",
     "varRefreshCmd": "cat(var_dic_list()) "
    }
   },
   "types_to_exclude": [
    "module",
    "function",
    "builtin_function_or_method",
    "instance",
    "_Feature"
   ],
   "window_display": false
  }
 },
 "nbformat": 4,
 "nbformat_minor": 2
}
